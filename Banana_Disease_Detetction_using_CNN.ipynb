{
  "nbformat": 4,
  "nbformat_minor": 0,
  "metadata": {
    "colab": {
      "provenance": [],
      "gpuType": "T4",
      "mount_file_id": "1YLc8KMXOwHQsT6JOsvvN3kqnGkPKJ6f7",
      "authorship_tag": "ABX9TyOnsmnQfy+2qoCKxNGNdAiG",
      "include_colab_link": true
    },
    "kernelspec": {
      "name": "python3",
      "display_name": "Python 3"
    },
    "language_info": {
      "name": "python"
    },
    "accelerator": "GPU"
  },
  "cells": [
    {
      "cell_type": "markdown",
      "metadata": {
        "id": "view-in-github",
        "colab_type": "text"
      },
      "source": [
        "<a href=\"https://colab.research.google.com/github/Shub2204/portfolio/blob/master/Banana_Disease_Detetction_using_CNN.ipynb\" target=\"_parent\"><img src=\"https://colab.research.google.com/assets/colab-badge.svg\" alt=\"Open In Colab\"/></a>"
      ]
    },
    {
      "cell_type": "code",
      "source": [
        "from google.colab import drive\n",
        "drive.mount('/content/drive')"
      ],
      "metadata": {
        "id": "b9d2uO4Gelkd",
        "colab": {
          "base_uri": "https://localhost:8080/"
        },
        "outputId": "fc0d5c8e-b4bd-4bbc-f616-d4d8749b72ac"
      },
      "execution_count": 1,
      "outputs": [
        {
          "output_type": "stream",
          "name": "stdout",
          "text": [
            "Drive already mounted at /content/drive; to attempt to forcibly remount, call drive.mount(\"/content/drive\", force_remount=True).\n"
          ]
        }
      ]
    },
    {
      "cell_type": "code",
      "source": [
        "zip_path = \"/content/drive/MyDrive/LJMU_Research/Dataset_Code_Experiment/BLD_Dataset.zip\""
      ],
      "metadata": {
        "id": "FNUdv_ltU4OI"
      },
      "execution_count": 2,
      "outputs": []
    },
    {
      "cell_type": "code",
      "source": [
        "import zipfile\n",
        "import os\n",
        "\n",
        "# Define the extraction path\n",
        "extract_path = \"/content/drive/MyDrive/LJMU_Research/Dataset_Code_Experiment/train\"\n",
        "\n",
        "# Create the directory if it doesn't exist\n",
        "os.makedirs(extract_path, exist_ok=True)\n",
        "\n",
        "# Extract the zip file\n",
        "with zipfile.ZipFile(zip_path, 'r') as zip_ref:\n",
        "    zip_ref.extractall(extract_path)\n",
        "\n",
        "print(f\"Files extracted to: {extract_path}\")"
      ],
      "metadata": {
        "colab": {
          "base_uri": "https://localhost:8080/"
        },
        "id": "dOnwlz5XU4HO",
        "outputId": "3021380f-41c8-44ab-ff30-bab97251bcc3"
      },
      "execution_count": 3,
      "outputs": [
        {
          "output_type": "stream",
          "name": "stdout",
          "text": [
            "Files extracted to: /content/drive/MyDrive/LJMU_Research/Dataset_Code_Experiment/train\n"
          ]
        }
      ]
    },
    {
      "cell_type": "code",
      "source": [],
      "metadata": {
        "id": "2TofnxNOU3_k"
      },
      "execution_count": null,
      "outputs": []
    }
  ]
}